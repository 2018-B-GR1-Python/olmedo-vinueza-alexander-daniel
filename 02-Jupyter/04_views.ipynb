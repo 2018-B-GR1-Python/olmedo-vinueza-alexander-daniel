{
 "cells": [
  {
   "cell_type": "code",
   "execution_count": 1,
   "metadata": {
    "collapsed": true
   },
   "outputs": [],
   "source": [
    "import numpy as np"
   ]
  },
  {
   "cell_type": "code",
   "execution_count": 19,
   "metadata": {},
   "outputs": [],
   "source": [
    "frutas = np.array(['Piña', 'Manzana', 'Pera', 'Melon', 'Mandarina', 'Coco'])\n"
   ]
  },
  {
   "cell_type": "code",
   "execution_count": 20,
   "metadata": {},
   "outputs": [],
   "source": [
    "cesta_fruta_uno = frutas.view()\n",
    "cesta_fruta_dos = frutas.view()"
   ]
  },
  {
   "cell_type": "code",
   "execution_count": 24,
   "metadata": {},
   "outputs": [
    {
     "name": "stdout",
     "output_type": "stream",
     "text": [
      "['Piña' 'Manzana' 'Pera' 'Melon' 'Mandarina' 'Coco']\n['Piña' 'Manzana' 'Pera' 'Melon' 'Mandarina' 'Coco']\n['Piña' 'Manzana' 'Pera' 'Melon' 'Mandarina' 'Coco']\n"
     ]
    }
   ],
   "source": [
    "print(frutas)\n",
    "print(cesta_fruta_uno)\n",
    "print(cesta_fruta_dos)"
   ]
  },
  {
   "cell_type": "code",
   "execution_count": 22,
   "metadata": {},
   "outputs": [
    {
     "name": "stdout",
     "output_type": "stream",
     "text": [
      "['Piña' 'Manzana' 'Pera' 'Melon' 'Mandarina' 'Coco']\n['Piña' 'Manzana' 'Pera' 'Melon' 'Mandarina' 'Coco']\n['Piña' 'Manzana' 'Pera' 'Melon' 'Mandarina' 'Coco']\n"
     ]
    }
   ],
   "source": [
    "print(id(frutas))\n",
    "print(id(cesta_fruta_uno))\n",
    "print(id(cesta_fruta_dos))"
   ]
  },
  {
   "cell_type": "code",
   "execution_count": 23,
   "metadata": {},
   "outputs": [
    {
     "name": "stdout",
     "output_type": "stream",
     "text": [
      "False\nFalse\n"
     ]
    }
   ],
   "source": [
    "print(cesta_fruta_uno is frutas)\n",
    "print(cesta_fruta_dos is frutas)"
   ]
  },
  {
   "cell_type": "code",
   "execution_count": 8,
   "metadata": {},
   "outputs": [
    {
     "name": "stdout",
     "output_type": "stream",
     "text": [
      "True\nTrue\n"
     ]
    }
   ],
   "source": [
    "print(cesta_fruta_uno.base is frutas)\n",
    "print(cesta_fruta_dos.base is frutas)"
   ]
  },
  {
   "cell_type": "code",
   "execution_count": 10,
   "metadata": {},
   "outputs": [
    {
     "name": "stdout",
     "output_type": "stream",
     "text": [
      "['Naranja' 'Manzana' 'Pera' 'Melon' 'Mandarina']\n['Naranja' 'Manzana' 'Pera' 'Melon' 'Mandarina']\n['Naranja' 'Manzana' 'Pera' 'Melon' 'Mandarina']\n"
     ]
    }
   ],
   "source": [
    "cesta_fruta_uno[0] = 'Naranja'\n",
    "print(frutas)\n",
    "print(cesta_fruta_uno)\n",
    "print(cesta_fruta_dos)"
   ]
  },
  {
   "cell_type": "code",
   "execution_count": 14,
   "metadata": {},
   "outputs": [],
   "source": [
    "cesta_fruta_uno = np.array(['Frutilla','Uva','Papaya','Platano'])"
   ]
  },
  {
   "cell_type": "code",
   "execution_count": 17,
   "metadata": {},
   "outputs": [
    {
     "name": "stdout",
     "output_type": "stream",
     "text": [
      "['Piña' 'Manzana' 'Pera' 'Melon' 'Mandarina']\n['Frutilla' 'Uva' 'Papaya' 'Platano']\n['Piña' 'Manzana' 'Pera' 'Melon' 'Mandarina']\n"
     ]
    }
   ],
   "source": [
    "print(cesta_fruta_dos)\n",
    "print(cesta_fruta_uno)\n",
    "print(frutas)"
   ]
  },
  {
   "cell_type": "code",
   "execution_count": 25,
   "metadata": {},
   "outputs": [],
   "source": [
    "cesta_fruta_dos.shape = 3,2"
   ]
  },
  {
   "cell_type": "code",
   "execution_count": 26,
   "metadata": {},
   "outputs": [
    {
     "name": "stdout",
     "output_type": "stream",
     "text": [
      "[['Piña' 'Manzana']\n ['Pera' 'Melon']\n ['Mandarina' 'Coco']]\n['Piña' 'Manzana' 'Pera' 'Melon' 'Mandarina' 'Coco']\n"
     ]
    }
   ],
   "source": [
    "print(cesta_fruta_dos)\n",
    "print(frutas)"
   ]
  },
  {
   "cell_type": "code",
   "execution_count": null,
   "metadata": {},
   "outputs": [],
   "source": []
  }
 ],
 "metadata": {
  "kernelspec": {
   "display_name": "Python 2",
   "language": "python",
   "name": "python2"
  },
  "language_info": {
   "codemirror_mode": {
    "name": "ipython",
    "version": 2
   },
   "file_extension": ".py",
   "mimetype": "text/x-python",
   "name": "python",
   "nbconvert_exporter": "python",
   "pygments_lexer": "ipython2",
   "version": "2.7.6"
  }
 },
 "nbformat": 4,
 "nbformat_minor": 0
}
