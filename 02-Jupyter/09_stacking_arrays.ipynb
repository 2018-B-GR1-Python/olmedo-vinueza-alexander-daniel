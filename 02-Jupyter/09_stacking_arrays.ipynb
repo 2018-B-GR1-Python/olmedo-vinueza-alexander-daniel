{
 "cells": [
  {
   "cell_type": "code",
   "execution_count": 1,
   "metadata": {
    "collapsed": true
   },
   "outputs": [],
   "source": [
    "import numpy as np"
   ]
  },
  {
   "cell_type": "code",
   "execution_count": 2,
   "metadata": {},
   "outputs": [],
   "source": [
    "paises_uno = np.array([['Ecuador','Peru'],['Colombia','Uruguay']])\n",
    "paises_dos = np.array([['Brasil','Mexico'],['Venezuela','Argentina']])"
   ]
  },
  {
   "cell_type": "code",
   "execution_count": 5,
   "metadata": {},
   "outputs": [
    {
     "name": "stdout",
     "output_type": "stream",
     "text": [
      "[['Ecuador' 'Peru']\n ['Colombia' 'Uruguay']\n ['Brasil' 'Mexico']\n ['Venezuela' 'Argentina']]\n[['Ecuador' 'Peru' 'Brasil' 'Mexico']\n ['Colombia' 'Uruguay' 'Venezuela' 'Argentina']]\n"
     ]
    }
   ],
   "source": [
    "# Concatenate\n",
    "paises_concatenados = np.concatenate((paises_uno,paises_dos))\n",
    "print(paises_concatenados)\n",
    "paises_concatenados = np.concatenate((paises_uno,paises_dos),axis=1)\n",
    "print(paises_concatenados)"
   ]
  },
  {
   "cell_type": "code",
   "execution_count": 6,
   "metadata": {},
   "outputs": [
    {
     "name": "stdout",
     "output_type": "stream",
     "text": [
      "[[1 2 3]\n [4 5 6]]\n"
     ]
    }
   ],
   "source": [
    "# Stack\n",
    "a = np.array([1,2,3])\n",
    "b = np.array([4,5,6])\n",
    "c = np.stack((a,b))\n",
    "print(c)"
   ]
  },
  {
   "cell_type": "code",
   "execution_count": 10,
   "metadata": {},
   "outputs": [
    {
     "name": "stdout",
     "output_type": "stream",
     "text": [
      "[['Alexander' 'Daniel' 'Maria' 'Andres']\n ['1' '2' '3' '4']\n ['7.5' '8.0' '8.5' '9.0']]\n(3, 4)\n[['Alexander' '1' '7.5']\n ['Daniel' '2' '8.0']\n ['Maria' '3' '8.5']\n ['Andres' '4' '9.0']]\n(4, 3)\n"
     ]
    }
   ],
   "source": [
    "nombres = ['Alexander', 'Daniel', 'Maria', 'Andres']\n",
    "ids = [1, 2, 3, 4]\n",
    "notas = [7.5, 8, 8.5, 9]\n",
    "print(np.stack((nombres,ids,notas)))\n",
    "print(np.stack((nombres,ids,notas)).shape)\n",
    "print(np.stack((nombres,ids,notas),axis=1))\n",
    "print(np.stack((nombres,ids,notas),axis=1).shape)"
   ]
  },
  {
   "cell_type": "code",
   "execution_count": null,
   "metadata": {},
   "outputs": [],
   "source": []
  }
 ],
 "metadata": {
  "kernelspec": {
   "display_name": "Python 2",
   "language": "python",
   "name": "python2"
  },
  "language_info": {
   "codemirror_mode": {
    "name": "ipython",
    "version": 2
   },
   "file_extension": ".py",
   "mimetype": "text/x-python",
   "name": "python",
   "nbconvert_exporter": "python",
   "pygments_lexer": "ipython2",
   "version": "2.7.6"
  }
 },
 "nbformat": 4,
 "nbformat_minor": 0
}
