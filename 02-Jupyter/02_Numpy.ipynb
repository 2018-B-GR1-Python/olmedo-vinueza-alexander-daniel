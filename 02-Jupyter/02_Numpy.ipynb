{
 "cells": [
  {
   "cell_type": "code",
   "execution_count": 1,
   "metadata": {},
   "outputs": [],
   "source": [
    "import numpy as np"
   ]
  },
  {
   "cell_type": "code",
   "execution_count": 90,
   "metadata": {},
   "outputs": [
    {
     "name": "stdout",
     "output_type": "stream",
     "text": [
      "[1 2 3]\n"
     ]
    }
   ],
   "source": [
    "arreglo_numeros = np.array([1,2,3])\n",
    "print(arreglo_numeros)"
   ]
  },
  {
   "cell_type": "code",
   "execution_count": 4,
   "metadata": {},
   "outputs": [
    {
     "data": {
      "text/plain": [
       "array([[[0., 0.],\n",
       "        [0., 0.]],\n",
       "\n",
       "       [[0., 0.],\n",
       "        [0., 0.]],\n",
       "\n",
       "       [[0., 0.],\n",
       "        [0., 0.]]])"
      ]
     },
     "execution_count": 4,
     "metadata": {},
     "output_type": "execute_result"
    }
   ],
   "source": [
    "np.zeros([3,4])\n",
    "np.zeros([3])\n",
    "np.zeros([3,2,2])"
   ]
  },
  {
   "cell_type": "code",
   "execution_count": 6,
   "metadata": {},
   "outputs": [
    {
     "data": {
      "text/plain": [
       "array([[1., 1., 1.],\n",
       "       [1., 1., 1.],\n",
       "       [1., 1., 1.],\n",
       "       [1., 1., 1.],\n",
       "       [1., 1., 1.]])"
      ]
     },
     "execution_count": 6,
     "metadata": {},
     "output_type": "execute_result"
    }
   ],
   "source": [
    "np.ones((5))\n",
    "np.ones((5,3))"
   ]
  },
  {
   "cell_type": "code",
   "execution_count": 7,
   "metadata": {},
   "outputs": [
    {
     "name": "stdout",
     "output_type": "stream",
     "text": [
      "[[1. 0. 0. 0.]\n",
      " [0. 1. 0. 0.]\n",
      " [0. 0. 1. 0.]\n",
      " [0. 0. 0. 1.]]\n",
      "[[1. 0. 0. 0. 0.]\n",
      " [0. 1. 0. 0. 0.]\n",
      " [0. 0. 1. 0. 0.]\n",
      " [0. 0. 0. 1. 0.]\n",
      " [0. 0. 0. 0. 1.]]\n"
     ]
    }
   ],
   "source": [
    "print(np.eye(4))\n",
    "print(np.eye(5))"
   ]
  },
  {
   "cell_type": "code",
   "execution_count": 12,
   "metadata": {},
   "outputs": [
    {
     "name": "stdout",
     "output_type": "stream",
     "text": [
      "[ 3  4  5  6  7  8  9 10 11 12 13 14 15 16 17 18 19 20 21 22 23 24 25 26\n",
      " 27 28 29 30 31 32 33 34 35 36 37 38 39 40 41 42 43 44 45 46 47 48 49]\n",
      "[ 4  6  8 10 12 14 16 18]\n"
     ]
    }
   ],
   "source": [
    "print(np.arange(3,50))\n",
    "print(np.arange(4,20,2))"
   ]
  },
  {
   "cell_type": "code",
   "execution_count": 14,
   "metadata": {},
   "outputs": [
    {
     "data": {
      "text/plain": [
       "(2, 3)"
      ]
     },
     "execution_count": 14,
     "metadata": {},
     "output_type": "execute_result"
    }
   ],
   "source": [
    "arreglo_dimension = np.array([(1,2,3),(4,5,6)])\n",
    "arreglo_dimension.shape"
   ]
  },
  {
   "cell_type": "code",
   "execution_count": 17,
   "metadata": {},
   "outputs": [
    {
     "data": {
      "text/plain": [
       "array([[ 0,  1,  2],\n",
       "       [ 3,  4,  5],\n",
       "       [ 6,  7,  8],\n",
       "       [ 9, 10, 11]])"
      ]
     },
     "execution_count": 17,
     "metadata": {},
     "output_type": "execute_result"
    }
   ],
   "source": [
    "np.arange(12).reshape(4,3)"
   ]
  },
  {
   "cell_type": "code",
   "execution_count": 22,
   "metadata": {},
   "outputs": [
    {
     "name": "stdout",
     "output_type": "stream",
     "text": [
      "[[1 1]\n",
      " [1 1]\n",
      " [1 1]]\n",
      "[1 1 1]\n"
     ]
    }
   ],
   "source": [
    "print(np.ones_like(np.arange(6).reshape(3,2)))\n",
    "print(np.ones_like(np.arange(3)))"
   ]
  },
  {
   "cell_type": "code",
   "execution_count": 23,
   "metadata": {},
   "outputs": [
    {
     "data": {
      "text/plain": [
       "array([[[ 0,  1],\n",
       "        [ 2,  3]],\n",
       "\n",
       "       [[ 4,  5],\n",
       "        [ 6,  7]],\n",
       "\n",
       "       [[ 8,  9],\n",
       "        [10, 11]],\n",
       "\n",
       "       [[12, 13],\n",
       "        [14, 15]],\n",
       "\n",
       "       [[16, 17],\n",
       "        [18, 19]],\n",
       "\n",
       "       [[20, 21],\n",
       "        [22, 23]]])"
      ]
     },
     "execution_count": 23,
     "metadata": {},
     "output_type": "execute_result"
    }
   ],
   "source": [
    "np.arange(24).reshape(6,2,2)"
   ]
  },
  {
   "cell_type": "code",
   "execution_count": 26,
   "metadata": {},
   "outputs": [
    {
     "data": {
      "text/plain": [
       "array([[[   0,    1,    2, ...,   97,   98,   99],\n",
       "        [ 100,  101,  102, ...,  197,  198,  199],\n",
       "        [ 200,  201,  202, ...,  297,  298,  299],\n",
       "        ...,\n",
       "        [ 700,  701,  702, ...,  797,  798,  799],\n",
       "        [ 800,  801,  802, ...,  897,  898,  899],\n",
       "        [ 900,  901,  902, ...,  997,  998,  999]],\n",
       "\n",
       "       [[1000, 1001, 1002, ..., 1097, 1098, 1099],\n",
       "        [1100, 1101, 1102, ..., 1197, 1198, 1199],\n",
       "        [1200, 1201, 1202, ..., 1297, 1298, 1299],\n",
       "        ...,\n",
       "        [1700, 1701, 1702, ..., 1797, 1798, 1799],\n",
       "        [1800, 1801, 1802, ..., 1897, 1898, 1899],\n",
       "        [1900, 1901, 1902, ..., 1997, 1998, 1999]],\n",
       "\n",
       "       [[2000, 2001, 2002, ..., 2097, 2098, 2099],\n",
       "        [2100, 2101, 2102, ..., 2197, 2198, 2199],\n",
       "        [2200, 2201, 2202, ..., 2297, 2298, 2299],\n",
       "        ...,\n",
       "        [2700, 2701, 2702, ..., 2797, 2798, 2799],\n",
       "        [2800, 2801, 2802, ..., 2897, 2898, 2899],\n",
       "        [2900, 2901, 2902, ..., 2997, 2998, 2999]],\n",
       "\n",
       "       ...,\n",
       "\n",
       "       [[7000, 7001, 7002, ..., 7097, 7098, 7099],\n",
       "        [7100, 7101, 7102, ..., 7197, 7198, 7199],\n",
       "        [7200, 7201, 7202, ..., 7297, 7298, 7299],\n",
       "        ...,\n",
       "        [7700, 7701, 7702, ..., 7797, 7798, 7799],\n",
       "        [7800, 7801, 7802, ..., 7897, 7898, 7899],\n",
       "        [7900, 7901, 7902, ..., 7997, 7998, 7999]],\n",
       "\n",
       "       [[8000, 8001, 8002, ..., 8097, 8098, 8099],\n",
       "        [8100, 8101, 8102, ..., 8197, 8198, 8199],\n",
       "        [8200, 8201, 8202, ..., 8297, 8298, 8299],\n",
       "        ...,\n",
       "        [8700, 8701, 8702, ..., 8797, 8798, 8799],\n",
       "        [8800, 8801, 8802, ..., 8897, 8898, 8899],\n",
       "        [8900, 8901, 8902, ..., 8997, 8998, 8999]],\n",
       "\n",
       "       [[9000, 9001, 9002, ..., 9097, 9098, 9099],\n",
       "        [9100, 9101, 9102, ..., 9197, 9198, 9199],\n",
       "        [9200, 9201, 9202, ..., 9297, 9298, 9299],\n",
       "        ...,\n",
       "        [9700, 9701, 9702, ..., 9797, 9798, 9799],\n",
       "        [9800, 9801, 9802, ..., 9897, 9898, 9899],\n",
       "        [9900, 9901, 9902, ..., 9997, 9998, 9999]]])"
      ]
     },
     "execution_count": 26,
     "metadata": {},
     "output_type": "execute_result"
    }
   ],
   "source": [
    "np.arange(10000).reshape(10,10,100)"
   ]
  },
  {
   "cell_type": "code",
   "execution_count": 29,
   "metadata": {},
   "outputs": [
    {
     "name": "stdout",
     "output_type": "stream",
     "text": [
      "[15 15 15]\n"
     ]
    }
   ],
   "source": [
    "# Sumas\n",
    "a = np.array([10,10,10])\n",
    "b = np.array([5,5,5])\n",
    "print(a + b)"
   ]
  },
  {
   "cell_type": "code",
   "execution_count": 30,
   "metadata": {},
   "outputs": [
    {
     "name": "stdout",
     "output_type": "stream",
     "text": [
      "[5 5 5]\n"
     ]
    }
   ],
   "source": [
    "# Resta\n",
    "print(a-b)"
   ]
  },
  {
   "cell_type": "code",
   "execution_count": 31,
   "metadata": {},
   "outputs": [
    {
     "name": "stdout",
     "output_type": "stream",
     "text": [
      "[50 50 50]\n"
     ]
    }
   ],
   "source": [
    "# Multiplicacion\n",
    "print(a*b)"
   ]
  },
  {
   "cell_type": "code",
   "execution_count": 32,
   "metadata": {},
   "outputs": [
    {
     "name": "stdout",
     "output_type": "stream",
     "text": [
      "[2. 2. 2.]\n"
     ]
    }
   ],
   "source": [
    "# Division\n",
    "print(a/b)"
   ]
  },
  {
   "cell_type": "code",
   "execution_count": 35,
   "metadata": {},
   "outputs": [
    {
     "name": "stdout",
     "output_type": "stream",
     "text": [
      "[0.  0.5 1.  1.5 2.  2.5 3.  3.5 4.  4.5 5.  5.5 6.  6.5 7.  7.5 8.  8.5]\n",
      "[0 1 2 0 1 2 0 1 2 0 1 2 0 1 2 0 1 2]\n"
     ]
    }
   ],
   "source": [
    "# Operaciones\n",
    "arreglo_dieciocho = np.arange(18)\n",
    "print(arreglo_dieciocho/2)\n",
    "print(arreglo_dieciocho%3)"
   ]
  },
  {
   "cell_type": "code",
   "execution_count": 36,
   "metadata": {},
   "outputs": [
    {
     "name": "stdout",
     "output_type": "stream",
     "text": [
      "[False False False False False False False False False False  True  True\n",
      "  True  True  True  True  True  True]\n"
     ]
    }
   ],
   "source": [
    "# Expresiones\n",
    "print(arreglo_dieciocho > 9)"
   ]
  },
  {
   "cell_type": "code",
   "execution_count": 42,
   "metadata": {},
   "outputs": [
    {
     "name": "stdout",
     "output_type": "stream",
     "text": [
      "[[0 1]\n",
      " [2 3]]\n",
      "[[4 5]\n",
      " [6 7]]\n"
     ]
    },
    {
     "data": {
      "text/plain": [
       "array([[ True,  True],\n",
       "       [ True,  True]])"
      ]
     },
     "execution_count": 42,
     "metadata": {},
     "output_type": "execute_result"
    }
   ],
   "source": [
    "# Multiplicación de varias dimensiones\n",
    "A = np.arange(4).reshape(2,2)\n",
    "print(A)\n",
    "B = np.arange(4,8).reshape(2,2)\n",
    "print(B)\n",
    "\n",
    "A < B"
   ]
  },
  {
   "cell_type": "code",
   "execution_count": 44,
   "metadata": {},
   "outputs": [
    {
     "name": "stdout",
     "output_type": "stream",
     "text": [
      "[[ 6  7]\n",
      " [26 31]]\n",
      "[0 1 2]\n",
      "[0 3 6]\n"
     ]
    }
   ],
   "source": [
    "# Multiplicacion dot\n",
    "A.dot(B)\n",
    "oli = np.arange(4).reshape(2,2)\n",
    "np.dot(A,B,oli)\n",
    "print(oli)\n",
    "arreglo_tres = np.arange(3)\n",
    "print(arreglo_tres)\n",
    "arreglo_tres *= 3\n",
    "print(arreglo_tres)"
   ]
  },
  {
   "cell_type": "code",
   "execution_count": 46,
   "metadata": {},
   "outputs": [
    {
     "name": "stdout",
     "output_type": "stream",
     "text": [
      "45\n",
      "0\n",
      "9\n"
     ]
    }
   ],
   "source": [
    "# Operaciones conocidas en los arreglos\n",
    "arreglo_diez_elementos = np.arange(10)\n",
    "print(arreglo_diez_elementos.sum())\n",
    "print(arreglo_diez_elementos.min())\n",
    "print(arreglo_diez_elementos.max())"
   ]
  },
  {
   "cell_type": "code",
   "execution_count": 51,
   "metadata": {},
   "outputs": [
    {
     "name": "stdout",
     "output_type": "stream",
     "text": [
      "[[ 0  1  2  3]\n",
      " [ 4  5  6  7]\n",
      " [ 8  9 10 11]]\n",
      "[12 15 18 21]\n",
      "[ 6 22 38]\n"
     ]
    }
   ],
   "source": [
    "arreglo_tres_cuatro = np.arange(12).reshape(3,4)\n",
    "print(arreglo_tres_cuatro)\n",
    "print(arreglo_tres_cuatro.sum(axis=0)) # X\n",
    "print(arreglo_tres_cuatro.sum(axis=1)) # Y"
   ]
  },
  {
   "cell_type": "code",
   "execution_count": 54,
   "metadata": {},
   "outputs": [
    {
     "name": "stdout",
     "output_type": "stream",
     "text": [
      "[ 0 30 45 60 90]\n",
      "[0.         0.52359878 0.78539816 1.04719755 1.57079633]\n"
     ]
    }
   ],
   "source": [
    "angulos_cero_noventa = np.array([0,30,45,60,90])\n",
    "print(angulos_cero_noventa)\n",
    "angulos_cero_noventa_radianes = angulos_cero_noventa *np.pi/180\n",
    "print(angulos_cero_noventa_radianes)"
   ]
  },
  {
   "cell_type": "code",
   "execution_count": 57,
   "metadata": {},
   "outputs": [
    {
     "name": "stdout",
     "output_type": "stream",
     "text": [
      "[0.         0.5        0.70710678 0.8660254  1.        ]\n",
      "[1.00000000e+00 8.66025404e-01 7.07106781e-01 5.00000000e-01\n",
      " 6.12323400e-17]\n",
      "[0.00000000e+00 5.77350269e-01 1.00000000e+00 1.73205081e+00\n",
      " 1.63312394e+16]\n"
     ]
    }
   ],
   "source": [
    "# Funciones trigonométricas\n",
    "print(np.sin(angulos_cero_noventa_radianes))\n",
    "print(np.cos(angulos_cero_noventa_radianes))\n",
    "print(np.tan(angulos_cero_noventa_radianes))"
   ]
  },
  {
   "cell_type": "code",
   "execution_count": 68,
   "metadata": {},
   "outputs": [
    {
     "name": "stdout",
     "output_type": "stream",
     "text": [
      "[7.25041467 6.3046121  2.91473458 7.52985437 8.13705916 4.32554634\n",
      " 4.41171225 2.49488946 8.31500647 9.07270887]\n",
      "6.075653827576664\n"
     ]
    }
   ],
   "source": [
    "# Media\n",
    "arreglo_diez = np.random.rand(10)*10\n",
    "print(arreglo_diez)\n",
    "print(np.mean(arreglo_diez))"
   ]
  },
  {
   "cell_type": "code",
   "execution_count": 69,
   "metadata": {},
   "outputs": [
    {
     "name": "stdout",
     "output_type": "stream",
     "text": [
      "[6.79906776 0.77798312 9.84861923 3.61892148 8.64208207 5.81264867\n",
      " 4.5256852  7.79442281 4.66802988 9.01869511]\n",
      "6.305858215095967\n"
     ]
    }
   ],
   "source": [
    "# Mediana\n",
    "arreglo_diez = np.random.rand(10)*10\n",
    "print(arreglo_diez)\n",
    "print(np.median(arreglo_diez))"
   ]
  },
  {
   "cell_type": "code",
   "execution_count": 70,
   "metadata": {},
   "outputs": [
    {
     "name": "stdout",
     "output_type": "stream",
     "text": [
      "[6.79906776 0.77798312 9.84861923 3.61892148 8.64208207 5.81264867\n",
      " 4.5256852  7.79442281 4.66802988 9.01869511]\n",
      "2.673171227924878\n"
     ]
    }
   ],
   "source": [
    "# Desviacion estándar\n",
    "print(arreglo_diez)\n",
    "print (np.std(arreglo_diez))"
   ]
  },
  {
   "cell_type": "code",
   "execution_count": 71,
   "metadata": {},
   "outputs": [
    {
     "name": "stdout",
     "output_type": "stream",
     "text": [
      "[6.79906776 0.77798312 9.84861923 3.61892148 8.64208207 5.81264867\n",
      " 4.5256852  7.79442281 4.66802988 9.01869511]\n",
      "7.145844413805399\n"
     ]
    }
   ],
   "source": [
    "# Varianza\n",
    "print(arreglo_diez)\n",
    "print (np.var(arreglo_diez))"
   ]
  },
  {
   "cell_type": "code",
   "execution_count": 75,
   "metadata": {},
   "outputs": [
    {
     "name": "stdout",
     "output_type": "stream",
     "text": [
      "(11, 15)\n"
     ]
    }
   ],
   "source": [
    "# salarios\n",
    "salarios = np.genfromtxt('data/salarios.csv', delimiter=',')\n",
    "print(salarios.shape)"
   ]
  },
  {
   "cell_type": "code",
   "execution_count": 92,
   "metadata": {},
   "outputs": [
    {
     "name": "stdout",
     "output_type": "stream",
     "text": [
      "[  0   1   4   9  16  25  36  49  64  81 100]\n",
      "0\n",
      "[0 1 4]\n",
      "64\n",
      "[ 4  9 16 25 36 49]\n",
      "[ 9 16 25 36 49 64 81]\n",
      "[  1   4   9  16  25  36  49  64  81 100]\n",
      "[ 0  1  4  9 16]\n",
      "[ 4  9 16 25 36 49]\n",
      "[ 4 36]\n",
      "[ 0  4 16 36 64]\n",
      "[100  81  64  49  36  25  16   9   4   1   0]\n"
     ]
    }
   ],
   "source": [
    "# Slice and Dice\n",
    "arreglo_once_cuadrado = np.arange(11)**2\n",
    "print(arreglo_once_cuadrado)\n",
    "print(arreglo_once_cuadrado[0])\n",
    "print(arreglo_once_cuadrado[0:3])\n",
    "print(arreglo_once_cuadrado[-3])\n",
    "print(arreglo_once_cuadrado[2:-3])\n",
    "print(arreglo_once_cuadrado[-8:-1])\n",
    "print(arreglo_once_cuadrado[1:])\n",
    "print(arreglo_once_cuadrado[:5])\n",
    "print(arreglo_once_cuadrado[2:8])\n",
    "print(arreglo_once_cuadrado[2:8:4])\n",
    "print(arreglo_once_cuadrado[:10:2])\n",
    "print(arreglo_once_cuadrado[::-1])\n"
   ]
  },
  {
   "cell_type": "code",
   "execution_count": null,
   "metadata": {},
   "outputs": [],
   "source": []
  }
 ],
 "metadata": {
  "kernelspec": {
   "display_name": "Python 3",
   "language": "python",
   "name": "python3"
  },
  "language_info": {
   "codemirror_mode": {
    "name": "ipython",
    "version": 3
   },
   "file_extension": ".py",
   "mimetype": "text/x-python",
   "name": "python",
   "nbconvert_exporter": "python",
   "pygments_lexer": "ipython3",
   "version": "3.7.0"
  }
 },
 "nbformat": 4,
 "nbformat_minor": 2
}
