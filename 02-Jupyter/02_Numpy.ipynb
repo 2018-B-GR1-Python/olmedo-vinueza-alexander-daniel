{
 "cells": [
  {
   "cell_type": "code",
   "execution_count": 32,
   "metadata": {},
   "outputs": [],
   "source": [
    "import numpy as np"
   ]
  },
  {
   "cell_type": "code",
   "execution_count": 33,
   "metadata": {},
   "outputs": [
    {
     "name": "stdout",
     "output_type": "stream",
     "text": [
      "[1 2 3]\n"
     ]
    }
   ],
   "source": [
    "arreglo_numeros = np.array([1,2,3])\n",
    "print(arreglo_numeros)"
   ]
  },
  {
   "cell_type": "code",
   "execution_count": 34,
   "metadata": {},
   "outputs": [
    {
     "data": {
      "text/plain": [
       "array([[[0., 0.],\n        [0., 0.]],\n\n       [[0., 0.],\n        [0., 0.]],\n\n       [[0., 0.],\n        [0., 0.]]])"
      ]
     },
     "execution_count": 34,
     "metadata": {},
     "output_type": "execute_result"
    }
   ],
   "source": [
    "np.zeros([3,4])\n",
    "np.zeros([3])\n",
    "np.zeros([3,2,2])"
   ]
  },
  {
   "cell_type": "code",
   "execution_count": 35,
   "metadata": {},
   "outputs": [
    {
     "data": {
      "text/plain": [
       "array([[1., 1., 1.],\n       [1., 1., 1.],\n       [1., 1., 1.],\n       [1., 1., 1.],\n       [1., 1., 1.]])"
      ]
     },
     "execution_count": 35,
     "metadata": {},
     "output_type": "execute_result"
    }
   ],
   "source": [
    "np.ones((5))\n",
    "np.ones((5,3))"
   ]
  },
  {
   "cell_type": "code",
   "execution_count": 36,
   "metadata": {},
   "outputs": [
    {
     "name": "stdout",
     "output_type": "stream",
     "text": [
      "[[1. 0. 0. 0.]\n [0. 1. 0. 0.]\n [0. 0. 1. 0.]\n [0. 0. 0. 1.]]\n[[1. 0. 0. 0. 0.]\n [0. 1. 0. 0. 0.]\n [0. 0. 1. 0. 0.]\n [0. 0. 0. 1. 0.]\n [0. 0. 0. 0. 1.]]\n"
     ]
    }
   ],
   "source": [
    "print(np.eye(4))\n",
    "print(np.eye(5))"
   ]
  },
  {
   "cell_type": "code",
   "execution_count": 37,
   "metadata": {},
   "outputs": [
    {
     "name": "stdout",
     "output_type": "stream",
     "text": [
      "[ 3  4  5  6  7  8  9 10 11 12 13 14 15 16 17 18 19 20 21 22 23 24 25 26\n 27 28 29 30 31 32 33 34 35 36 37 38 39 40 41 42 43 44 45 46 47 48 49]\n[ 4  6  8 10 12 14 16 18]\n"
     ]
    }
   ],
   "source": [
    "print(np.arange(3,50))\n",
    "print(np.arange(4,20,2))"
   ]
  },
  {
   "cell_type": "code",
   "execution_count": 38,
   "metadata": {},
   "outputs": [
    {
     "data": {
      "text/plain": [
       "(2, 3)"
      ]
     },
     "execution_count": 38,
     "metadata": {},
     "output_type": "execute_result"
    }
   ],
   "source": [
    "arreglo_dimension = np.array([(1,2,3),(4,5,6)])\n",
    "arreglo_dimension.shape"
   ]
  },
  {
   "cell_type": "code",
   "execution_count": 39,
   "metadata": {},
   "outputs": [
    {
     "data": {
      "text/plain": [
       "array([[ 0,  1,  2],\n       [ 3,  4,  5],\n       [ 6,  7,  8],\n       [ 9, 10, 11]])"
      ]
     },
     "execution_count": 39,
     "metadata": {},
     "output_type": "execute_result"
    }
   ],
   "source": [
    "np.arange(12).reshape(4,3)"
   ]
  },
  {
   "cell_type": "code",
   "execution_count": 40,
   "metadata": {},
   "outputs": [
    {
     "name": "stdout",
     "output_type": "stream",
     "text": [
      "[[1 1]\n [1 1]\n [1 1]]\n[1 1 1]\n"
     ]
    }
   ],
   "source": [
    "print(np.ones_like(np.arange(6).reshape(3,2)))\n",
    "print(np.ones_like(np.arange(3)))"
   ]
  },
  {
   "cell_type": "code",
   "execution_count": 41,
   "metadata": {},
   "outputs": [
    {
     "data": {
      "text/plain": [
       "array([[[ 0,  1],\n        [ 2,  3]],\n\n       [[ 4,  5],\n        [ 6,  7]],\n\n       [[ 8,  9],\n        [10, 11]],\n\n       [[12, 13],\n        [14, 15]],\n\n       [[16, 17],\n        [18, 19]],\n\n       [[20, 21],\n        [22, 23]]])"
      ]
     },
     "execution_count": 41,
     "metadata": {},
     "output_type": "execute_result"
    }
   ],
   "source": [
    "np.arange(24).reshape(6,2,2)"
   ]
  },
  {
   "cell_type": "code",
   "execution_count": 42,
   "metadata": {},
   "outputs": [
    {
     "data": {
      "text/plain": [
       "array([[[   0,    1,    2, ...,   97,   98,   99],\n        [ 100,  101,  102, ...,  197,  198,  199],\n        [ 200,  201,  202, ...,  297,  298,  299],\n        ...,\n        [ 700,  701,  702, ...,  797,  798,  799],\n        [ 800,  801,  802, ...,  897,  898,  899],\n        [ 900,  901,  902, ...,  997,  998,  999]],\n\n       [[1000, 1001, 1002, ..., 1097, 1098, 1099],\n        [1100, 1101, 1102, ..., 1197, 1198, 1199],\n        [1200, 1201, 1202, ..., 1297, 1298, 1299],\n        ...,\n        [1700, 1701, 1702, ..., 1797, 1798, 1799],\n        [1800, 1801, 1802, ..., 1897, 1898, 1899],\n        [1900, 1901, 1902, ..., 1997, 1998, 1999]],\n\n       [[2000, 2001, 2002, ..., 2097, 2098, 2099],\n        [2100, 2101, 2102, ..., 2197, 2198, 2199],\n        [2200, 2201, 2202, ..., 2297, 2298, 2299],\n        ...,\n        [2700, 2701, 2702, ..., 2797, 2798, 2799],\n        [2800, 2801, 2802, ..., 2897, 2898, 2899],\n        [2900, 2901, 2902, ..., 2997, 2998, 2999]],\n\n       ...,\n\n       [[7000, 7001, 7002, ..., 7097, 7098, 7099],\n        [7100, 7101, 7102, ..., 7197, 7198, 7199],\n        [7200, 7201, 7202, ..., 7297, 7298, 7299],\n        ...,\n        [7700, 7701, 7702, ..., 7797, 7798, 7799],\n        [7800, 7801, 7802, ..., 7897, 7898, 7899],\n        [7900, 7901, 7902, ..., 7997, 7998, 7999]],\n\n       [[8000, 8001, 8002, ..., 8097, 8098, 8099],\n        [8100, 8101, 8102, ..., 8197, 8198, 8199],\n        [8200, 8201, 8202, ..., 8297, 8298, 8299],\n        ...,\n        [8700, 8701, 8702, ..., 8797, 8798, 8799],\n        [8800, 8801, 8802, ..., 8897, 8898, 8899],\n        [8900, 8901, 8902, ..., 8997, 8998, 8999]],\n\n       [[9000, 9001, 9002, ..., 9097, 9098, 9099],\n        [9100, 9101, 9102, ..., 9197, 9198, 9199],\n        [9200, 9201, 9202, ..., 9297, 9298, 9299],\n        ...,\n        [9700, 9701, 9702, ..., 9797, 9798, 9799],\n        [9800, 9801, 9802, ..., 9897, 9898, 9899],\n        [9900, 9901, 9902, ..., 9997, 9998, 9999]]])"
      ]
     },
     "execution_count": 42,
     "metadata": {},
     "output_type": "execute_result"
    }
   ],
   "source": [
    "np.arange(10000).reshape(10,10,100)"
   ]
  },
  {
   "cell_type": "code",
   "execution_count": 43,
   "metadata": {},
   "outputs": [
    {
     "name": "stdout",
     "output_type": "stream",
     "text": [
      "[15 15 15]"
     ]
    },
    {
     "name": "stdout",
     "output_type": "stream",
     "text": [
      "\n"
     ]
    }
   ],
   "source": [
    "# Sumas\n",
    "a = np.array([10,10,10])\n",
    "b = np.array([5,5,5])\n",
    "print(a + b)"
   ]
  },
  {
   "cell_type": "code",
   "execution_count": 44,
   "metadata": {},
   "outputs": [
    {
     "name": "stdout",
     "output_type": "stream",
     "text": [
      "[5 5 5]\n"
     ]
    }
   ],
   "source": [
    "# Resta\n",
    "print(a-b)"
   ]
  },
  {
   "cell_type": "code",
   "execution_count": 45,
   "metadata": {},
   "outputs": [
    {
     "name": "stdout",
     "output_type": "stream",
     "text": [
      "[50 50 50]\n"
     ]
    }
   ],
   "source": [
    "# Multiplicacion\n",
    "print(a*b)"
   ]
  },
  {
   "cell_type": "code",
   "execution_count": 46,
   "metadata": {},
   "outputs": [
    {
     "name": "stdout",
     "output_type": "stream",
     "text": [
      "[2. 2. 2.]\n"
     ]
    }
   ],
   "source": [
    "# Division\n",
    "print(a/b)"
   ]
  },
  {
   "cell_type": "code",
   "execution_count": 47,
   "metadata": {},
   "outputs": [
    {
     "name": "stdout",
     "output_type": "stream",
     "text": [
      "[0.  0.5 1.  1.5 2.  2.5 3.  3.5 4.  4.5 5.  5.5 6.  6.5 7.  7.5 8.  8.5]\n[0 1 2 0 1 2 0 1 2 0 1 2 0 1 2 0 1 2]\n"
     ]
    }
   ],
   "source": [
    "# Operaciones\n",
    "arreglo_dieciocho = np.arange(18)\n",
    "print(arreglo_dieciocho/2)\n",
    "print(arreglo_dieciocho%3)"
   ]
  },
  {
   "cell_type": "code",
   "execution_count": 48,
   "metadata": {},
   "outputs": [
    {
     "name": "stdout",
     "output_type": "stream",
     "text": [
      "[False False False False False False False False False False  True  True\n  True  True  True  True  True  True]\n"
     ]
    }
   ],
   "source": [
    "# Expresiones\n",
    "print(arreglo_dieciocho > 9)"
   ]
  },
  {
   "cell_type": "code",
   "execution_count": 49,
   "metadata": {},
   "outputs": [
    {
     "name": "stdout",
     "output_type": "stream",
     "text": [
      "[[0 1]\n [2 3]]"
     ]
    },
    {
     "name": "stdout",
     "output_type": "stream",
     "text": [
      "\n[[4 5]\n [6 7]]\n"
     ]
    }
   ],
   "source": [
    "# Multiplicación de varias dimensiones\n",
    "A = np.arange(4).reshape(2,2)\n",
    "print(A)\n",
    "B = np.arange(4,8).reshape(2,2)\n",
    "print(B)\n",
    "\n",
    "A < B"
   ]
  },
  {
   "cell_type": "code",
   "execution_count": 50,
   "metadata": {},
   "outputs": [
    {
     "name": "stdout",
     "output_type": "stream",
     "text": [
      "[[ 6  7]\n [26 31]]\n[0 1 2]\n[0 3 6]\n"
     ]
    }
   ],
   "source": [
    "# Multiplicacion dot\n",
    "A.dot(B)\n",
    "oli = np.arange(4).reshape(2,2)\n",
    "np.dot(A,B,oli)\n",
    "print(oli)\n",
    "arreglo_tres = np.arange(3)\n",
    "print(arreglo_tres)\n",
    "arreglo_tres *= 3\n",
    "print(arreglo_tres)"
   ]
  },
  {
   "cell_type": "code",
   "execution_count": 51,
   "metadata": {},
   "outputs": [
    {
     "name": "stdout",
     "output_type": "stream",
     "text": [
      "45\n0\n9\n"
     ]
    }
   ],
   "source": [
    "# Operaciones conocidas en los arreglos\n",
    "arreglo_diez_elementos = np.arange(10)\n",
    "print(arreglo_diez_elementos.sum())\n",
    "print(arreglo_diez_elementos.min())\n",
    "print(arreglo_diez_elementos.max())"
   ]
  },
  {
   "cell_type": "code",
   "execution_count": 52,
   "metadata": {},
   "outputs": [
    {
     "name": "stdout",
     "output_type": "stream",
     "text": [
      "[[ 0  1  2  3]\n [ 4  5  6  7]\n [ 8  9 10 11]]\n[12 15 18 21]\n[ 6 22 38]\n"
     ]
    }
   ],
   "source": [
    "arreglo_tres_cuatro = np.arange(12).reshape(3,4)\n",
    "print(arreglo_tres_cuatro)\n",
    "print(arreglo_tres_cuatro.sum(axis=0)) # X\n",
    "print(arreglo_tres_cuatro.sum(axis=1)) # Y"
   ]
  },
  {
   "cell_type": "code",
   "execution_count": 53,
   "metadata": {},
   "outputs": [
    {
     "name": "stdout",
     "output_type": "stream",
     "text": [
      "[ 0 30 45 60 90]\n[0.         0.52359878 0.78539816 1.04719755 1.57079633]\n"
     ]
    }
   ],
   "source": [
    "angulos_cero_noventa = np.array([0,30,45,60,90])\n",
    "print(angulos_cero_noventa)\n",
    "angulos_cero_noventa_radianes = angulos_cero_noventa *np.pi/180\n",
    "print(angulos_cero_noventa_radianes)"
   ]
  },
  {
   "cell_type": "code",
   "execution_count": 54,
   "metadata": {},
   "outputs": [
    {
     "name": "stdout",
     "output_type": "stream",
     "text": [
      "[0.         0.5        0.70710678 0.8660254  1.        ]\n[1.00000000e+00 8.66025404e-01 7.07106781e-01 5.00000000e-01\n 6.12323400e-17]\n[0.00000000e+00 5.77350269e-01 1.00000000e+00 1.73205081e+00\n 1.63312394e+16]\n"
     ]
    }
   ],
   "source": [
    "# Funciones trigonométricas\n",
    "print(np.sin(angulos_cero_noventa_radianes))\n",
    "print(np.cos(angulos_cero_noventa_radianes))\n",
    "print(np.tan(angulos_cero_noventa_radianes))"
   ]
  },
  {
   "cell_type": "code",
   "execution_count": 55,
   "metadata": {},
   "outputs": [
    {
     "name": "stdout",
     "output_type": "stream",
     "text": [
      "[5.73646622 8.01689179 3.22194834 5.94861917 0.23684417 5.88990093\n 9.78137993 7.09791013 6.25143374 1.48377614]"
     ]
    },
    {
     "name": "stdout",
     "output_type": "stream",
     "text": [
      "\n5.36651705652725\n"
     ]
    }
   ],
   "source": [
    "# Media\n",
    "arreglo_diez = np.random.rand(10)*10\n",
    "print(arreglo_diez)\n",
    "print(np.mean(arreglo_diez))"
   ]
  },
  {
   "cell_type": "code",
   "execution_count": 56,
   "metadata": {},
   "outputs": [
    {
     "name": "stdout",
     "output_type": "stream",
     "text": [
      "[2.50069591 8.73821007 8.19445593 7.3070169  7.07347439 3.64016627\n 1.4704331  3.7083528  6.21623404 7.01394278]\n6.615088414549112\n"
     ]
    }
   ],
   "source": [
    "# Mediana\n",
    "arreglo_diez = np.random.rand(10)*10\n",
    "print(arreglo_diez)\n",
    "print(np.median(arreglo_diez))"
   ]
  },
  {
   "cell_type": "code",
   "execution_count": 57,
   "metadata": {},
   "outputs": [
    {
     "name": "stdout",
     "output_type": "stream",
     "text": [
      "[2.50069591 8.73821007 8.19445593 7.3070169  7.07347439 3.64016627\n 1.4704331  3.7083528  6.21623404 7.01394278]\n2.4108086770596318\n"
     ]
    }
   ],
   "source": [
    "# Desviacion estándar\n",
    "print(arreglo_diez)\n",
    "print (np.std(arreglo_diez))"
   ]
  },
  {
   "cell_type": "code",
   "execution_count": 58,
   "metadata": {},
   "outputs": [
    {
     "name": "stdout",
     "output_type": "stream",
     "text": [
      "[2.50069591 8.73821007 8.19445593 7.3070169  7.07347439 3.64016627\n 1.4704331  3.7083528  6.21623404 7.01394278]\n5.8119984773860125\n"
     ]
    }
   ],
   "source": [
    "# Varianza\n",
    "print(arreglo_diez)\n",
    "print (np.var(arreglo_diez))"
   ]
  },
  {
   "cell_type": "code",
   "execution_count": 59,
   "metadata": {},
   "outputs": [
    {
     "ename": "OSError",
     "evalue": "data/salarios.csv not found.",
     "traceback": [
      "\u001b[1;31m---------------------------------------------------------------------------\u001b[0m",
      "\u001b[1;31mOSError\u001b[0m                                   Traceback (most recent call last)",
      "\u001b[1;32m<ipython-input-59-c434563128d3>\u001b[0m in \u001b[0;36m<module>\u001b[1;34m\u001b[0m\n\u001b[0;32m      1\u001b[0m \u001b[1;31m# salarios\u001b[0m\u001b[1;33m\u001b[0m\u001b[1;33m\u001b[0m\u001b[0m\n\u001b[1;32m----> 2\u001b[1;33m \u001b[0msalarios\u001b[0m \u001b[1;33m=\u001b[0m \u001b[0mnp\u001b[0m\u001b[1;33m.\u001b[0m\u001b[0mgenfromtxt\u001b[0m\u001b[1;33m(\u001b[0m\u001b[1;34m'data/salarios.csv'\u001b[0m\u001b[1;33m,\u001b[0m \u001b[0mdelimiter\u001b[0m\u001b[1;33m=\u001b[0m\u001b[1;34m','\u001b[0m\u001b[1;33m)\u001b[0m\u001b[1;33m\u001b[0m\u001b[0m\n\u001b[0m\u001b[0;32m      3\u001b[0m \u001b[0mprint\u001b[0m\u001b[1;33m(\u001b[0m\u001b[0msalarios\u001b[0m\u001b[1;33m.\u001b[0m\u001b[0mshape\u001b[0m\u001b[1;33m)\u001b[0m\u001b[1;33m\u001b[0m\u001b[0m\n",
      "\u001b[1;32mc:\\users\\alexander\\appdata\\local\\programs\\python\\python37\\lib\\site-packages\\numpy\\lib\\npyio.py\u001b[0m in \u001b[0;36mgenfromtxt\u001b[1;34m(fname, dtype, comments, delimiter, skip_header, skip_footer, converters, missing_values, filling_values, usecols, names, excludelist, deletechars, replace_space, autostrip, case_sensitive, defaultfmt, unpack, usemask, loose, invalid_raise, max_rows, encoding)\u001b[0m\n\u001b[0;32m   1698\u001b[0m             \u001b[0mfname\u001b[0m \u001b[1;33m=\u001b[0m \u001b[0mstr\u001b[0m\u001b[1;33m(\u001b[0m\u001b[0mfname\u001b[0m\u001b[1;33m)\u001b[0m\u001b[1;33m\u001b[0m\u001b[0m\n\u001b[0;32m   1699\u001b[0m         \u001b[1;32mif\u001b[0m \u001b[0misinstance\u001b[0m\u001b[1;33m(\u001b[0m\u001b[0mfname\u001b[0m\u001b[1;33m,\u001b[0m \u001b[0mbasestring\u001b[0m\u001b[1;33m)\u001b[0m\u001b[1;33m:\u001b[0m\u001b[1;33m\u001b[0m\u001b[0m\n\u001b[1;32m-> 1700\u001b[1;33m             \u001b[0mfhd\u001b[0m \u001b[1;33m=\u001b[0m \u001b[0miter\u001b[0m\u001b[1;33m(\u001b[0m\u001b[0mnp\u001b[0m\u001b[1;33m.\u001b[0m\u001b[0mlib\u001b[0m\u001b[1;33m.\u001b[0m\u001b[0m_datasource\u001b[0m\u001b[1;33m.\u001b[0m\u001b[0mopen\u001b[0m\u001b[1;33m(\u001b[0m\u001b[0mfname\u001b[0m\u001b[1;33m,\u001b[0m \u001b[1;34m'rt'\u001b[0m\u001b[1;33m,\u001b[0m \u001b[0mencoding\u001b[0m\u001b[1;33m=\u001b[0m\u001b[0mencoding\u001b[0m\u001b[1;33m)\u001b[0m\u001b[1;33m)\u001b[0m\u001b[1;33m\u001b[0m\u001b[0m\n\u001b[0m\u001b[0;32m   1701\u001b[0m             \u001b[0mown_fhd\u001b[0m \u001b[1;33m=\u001b[0m \u001b[1;32mTrue\u001b[0m\u001b[1;33m\u001b[0m\u001b[0m\n\u001b[0;32m   1702\u001b[0m         \u001b[1;32melse\u001b[0m\u001b[1;33m:\u001b[0m\u001b[1;33m\u001b[0m\u001b[0m\n",
      "\u001b[1;32mc:\\users\\alexander\\appdata\\local\\programs\\python\\python37\\lib\\site-packages\\numpy\\lib\\_datasource.py\u001b[0m in \u001b[0;36mopen\u001b[1;34m(path, mode, destpath, encoding, newline)\u001b[0m\n\u001b[0;32m    260\u001b[0m \u001b[1;33m\u001b[0m\u001b[0m\n\u001b[0;32m    261\u001b[0m     \u001b[0mds\u001b[0m \u001b[1;33m=\u001b[0m \u001b[0mDataSource\u001b[0m\u001b[1;33m(\u001b[0m\u001b[0mdestpath\u001b[0m\u001b[1;33m)\u001b[0m\u001b[1;33m\u001b[0m\u001b[0m\n\u001b[1;32m--> 262\u001b[1;33m     \u001b[1;32mreturn\u001b[0m \u001b[0mds\u001b[0m\u001b[1;33m.\u001b[0m\u001b[0mopen\u001b[0m\u001b[1;33m(\u001b[0m\u001b[0mpath\u001b[0m\u001b[1;33m,\u001b[0m \u001b[0mmode\u001b[0m\u001b[1;33m,\u001b[0m \u001b[0mencoding\u001b[0m\u001b[1;33m=\u001b[0m\u001b[0mencoding\u001b[0m\u001b[1;33m,\u001b[0m \u001b[0mnewline\u001b[0m\u001b[1;33m=\u001b[0m\u001b[0mnewline\u001b[0m\u001b[1;33m)\u001b[0m\u001b[1;33m\u001b[0m\u001b[0m\n\u001b[0m\u001b[0;32m    263\u001b[0m \u001b[1;33m\u001b[0m\u001b[0m\n\u001b[0;32m    264\u001b[0m \u001b[1;33m\u001b[0m\u001b[0m\n",
      "\u001b[1;32mc:\\users\\alexander\\appdata\\local\\programs\\python\\python37\\lib\\site-packages\\numpy\\lib\\_datasource.py\u001b[0m in \u001b[0;36mopen\u001b[1;34m(self, path, mode, encoding, newline)\u001b[0m\n\u001b[0;32m    616\u001b[0m                                       encoding=encoding, newline=newline)\n\u001b[0;32m    617\u001b[0m         \u001b[1;32melse\u001b[0m\u001b[1;33m:\u001b[0m\u001b[1;33m\u001b[0m\u001b[0m\n\u001b[1;32m--> 618\u001b[1;33m             \u001b[1;32mraise\u001b[0m \u001b[0mIOError\u001b[0m\u001b[1;33m(\u001b[0m\u001b[1;34m\"%s not found.\"\u001b[0m \u001b[1;33m%\u001b[0m \u001b[0mpath\u001b[0m\u001b[1;33m)\u001b[0m\u001b[1;33m\u001b[0m\u001b[0m\n\u001b[0m\u001b[0;32m    619\u001b[0m \u001b[1;33m\u001b[0m\u001b[0m\n\u001b[0;32m    620\u001b[0m \u001b[1;33m\u001b[0m\u001b[0m\n",
      "\u001b[1;31mOSError\u001b[0m: data/salarios.csv not found."
     ],
     "output_type": "error"
    }
   ],
   "source": [
    "# salarios\n",
    "salarios = np.genfromtxt('data/salarios.csv', delimiter=',')\n",
    "print(salarios.shape)"
   ]
  },
  {
   "cell_type": "code",
   "execution_count": 60,
   "metadata": {},
   "outputs": [
    {
     "name": "stdout",
     "output_type": "stream",
     "text": [
      "[  0   1   4   9  16  25  36  49  64  81 100]\n0\n[0 1 4]\n64\n[ 4  9 16 25 36 49]\n[ 9 16 25 36 49 64 81]\n[ 4  9 16 25 36 49]\n"
     ]
    }
   ],
   "source": [
    "# Slice and Dice\n",
    "arreglo_once_cuadrado = np.arange(11)**2\n",
    "print(arreglo_once_cuadrado)\n",
    "print(arreglo_once_cuadrado[0])\n",
    "print(arreglo_once_cuadrado[0:3])\n",
    "print(arreglo_once_cuadrado[-3])\n",
    "print(arreglo_once_cuadrado[2:-3])\n",
    "print(arreglo_once_cuadrado[-8:-1])\n",
    "print(arreglo_once_cuadrado[2:-3])"
   ]
  },
  {
   "cell_type": "markdown",
   "metadata": {},
   "source": [
    "# Arrange\n",
    "Tenemos un arreglo de diez elementos y queremos hacer alguna cosa"
   ]
  },
  {
   "cell_type": "code",
   "execution_count": 62,
   "metadata": {},
   "outputs": [],
   "source": [
    "estudiantes = np.array([['Array', 'Carlos', 'Vicente', 'Felipe'],\n",
    "                       ['1','2','3','4'],\n",
    "                       ['6.5','7.5','8','9']])"
   ]
  },
  {
   "cell_type": "code",
   "execution_count": 67,
   "metadata": {},
   "outputs": [],
   "source": [
    "#Reshaping\n",
    "paises_tuplas = np.array([('Ecuador', 'Colombia', 'Peru', 'Brazil'),\n",
    "                          ('Mexico','Guatemala','Honduras','Venezuela')])"
   ]
  },
  {
   "cell_type": "code",
   "execution_count": 64,
   "metadata": {},
   "outputs": [
    {
     "data": {
      "text/plain": [
       "array([['Ecuador', 'Colombia', 'Peru', 'Brazil'],\n       ['Mexico', 'Guatemala', 'Honduras', 'Venezuela']], dtype='<U9')"
      ]
     },
     "execution_count": 64,
     "metadata": {},
     "output_type": "execute_result"
    }
   ],
   "source": [
    "paises_tuplas "
   ]
  },
  {
   "cell_type": "code",
   "execution_count": 65,
   "metadata": {},
   "outputs": [],
   "source": [
    "paises_tuplas[0][0] = 'Estados Unidos'"
   ]
  },
  {
   "cell_type": "code",
   "execution_count": 68,
   "metadata": {},
   "outputs": [
    {
     "data": {
      "text/plain": [
       "'Ecuador'"
      ]
     },
     "execution_count": 68,
     "metadata": {},
     "output_type": "execute_result"
    }
   ],
   "source": [
    "paises_tuplas[0][0]"
   ]
  },
  {
   "cell_type": "code",
   "execution_count": 69,
   "metadata": {},
   "outputs": [
    {
     "data": {
      "text/plain": [
       "(2, 4)"
      ]
     },
     "execution_count": 69,
     "metadata": {},
     "output_type": "execute_result"
    }
   ],
   "source": [
    "paises_tuplas.shape"
   ]
  },
  {
   "cell_type": "code",
   "execution_count": 70,
   "metadata": {},
   "outputs": [
    {
     "data": {
      "text/plain": [
       "(8,)"
      ]
     },
     "execution_count": 70,
     "metadata": {},
     "output_type": "execute_result"
    }
   ],
   "source": [
    "paises_tuplas.flatten().shape"
   ]
  },
  {
   "cell_type": "code",
   "execution_count": 71,
   "metadata": {},
   "outputs": [
    {
     "data": {
      "text/plain": [
       "array([['Ecuador', 'Colombia', 'Peru', 'Brazil'],\n       ['Mexico', 'Guatemala', 'Honduras', 'Venezuela']], dtype='<U9')"
      ]
     },
     "execution_count": 71,
     "metadata": {},
     "output_type": "execute_result"
    }
   ],
   "source": [
    "paises_tuplas"
   ]
  },
  {
   "cell_type": "code",
   "execution_count": 73,
   "metadata": {},
   "outputs": [
    {
     "data": {
      "text/plain": [
       "array([['Ecuador', 'Mexico'],\n       ['Colombia', 'Guatemala'],\n       ['Peru', 'Honduras'],\n       ['Brazil', 'Venezuela']], dtype='<U9')"
      ]
     },
     "execution_count": 73,
     "metadata": {},
     "output_type": "execute_result"
    }
   ],
   "source": [
    "paises_tuplas.T"
   ]
  },
  {
   "cell_type": "code",
   "execution_count": 74,
   "metadata": {},
   "outputs": [
    {
     "data": {
      "text/plain": [
       "array(['Ecuador', 'Mexico', 'Colombia', 'Guatemala', 'Peru', 'Honduras',\n       'Brazil', 'Venezuela'], dtype='<U9')"
      ]
     },
     "execution_count": 74,
     "metadata": {},
     "output_type": "execute_result"
    }
   ],
   "source": [
    "paises_tuplas.T.flatten()"
   ]
  },
  {
   "cell_type": "code",
   "execution_count": 76,
   "metadata": {},
   "outputs": [
    {
     "data": {
      "text/plain": [
       "array([['Ecuador', 'Colombia', 'Peru', 'Brazil'],\n       ['Mexico', 'Guatemala', 'Honduras', 'Venezuela']], dtype='<U9')"
      ]
     },
     "execution_count": 76,
     "metadata": {},
     "output_type": "execute_result"
    }
   ],
   "source": [
    "paises_tuplas"
   ]
  },
  {
   "cell_type": "code",
   "execution_count": 77,
   "metadata": {},
   "outputs": [
    {
     "data": {
      "text/plain": [
       "array([['Ecuador', 'Colombia'],\n       ['Peru', 'Brazil'],\n       ['Mexico', 'Guatemala'],\n       ['Honduras', 'Venezuela']], dtype='<U9')"
      ]
     },
     "execution_count": 77,
     "metadata": {},
     "output_type": "execute_result"
    }
   ],
   "source": [
    "paises_tuplas.reshape(4,2)"
   ]
  },
  {
   "cell_type": "code",
   "execution_count": 83,
   "metadata": {},
   "outputs": [],
   "source": [
    "paises = np.array(['Ecuador',\n",
    "                   'Colombia',\n",
    "                   'Peru',\n",
    "                   'Brazil',\n",
    "                   'Mexico',\n",
    "                   'Guatemala',\n",
    "                   'Honduras',\n",
    "                   'Venezuela',\n",
    "                   'Argentina',\n",
    "                   'Chile',\n",
    "                   'Bolivia',\n",
    "                   'Alemania'])"
   ]
  },
  {
   "cell_type": "code",
   "execution_count": 84,
   "metadata": {},
   "outputs": [
    {
     "data": {
      "text/plain": [
       "array([[['Ecuador', 'Colombia'],\n        ['Peru', 'Brazil']],\n\n       [['Mexico', 'Guatemala'],\n        ['Honduras', 'Venezuela']],\n\n       [['Argentina', 'Chile'],\n        ['Bolivia', 'Alemania']]], dtype='<U9')"
      ]
     },
     "execution_count": 84,
     "metadata": {},
     "output_type": "execute_result"
    }
   ],
   "source": [
    "paises.reshape(3,-1,2) # 9 = X * 3    X=9/3   X=3"
   ]
  },
  {
   "cell_type": "code",
   "execution_count": 89,
   "metadata": {},
   "outputs": [],
   "source": [
    "# Split\n",
    "arreglo_split = np.arange(1,13)"
   ]
  },
  {
   "cell_type": "code",
   "execution_count": 93,
   "metadata": {},
   "outputs": [
    {
     "data": {
      "text/plain": [
       "[array([1, 2, 3, 4, 5, 6]), array([ 7,  8,  9, 10, 11, 12])]"
      ]
     },
     "execution_count": 93,
     "metadata": {},
     "output_type": "execute_result"
    }
   ],
   "source": [
    "np.split(arreglo_split,2)"
   ]
  },
  {
   "cell_type": "code",
   "execution_count": 95,
   "metadata": {},
   "outputs": [
    {
     "data": {
      "text/plain": [
       "[array([1, 2]),\n array([3]),\n array([4, 5]),\n array([6, 7, 8]),\n array([ 9, 10, 11, 12])]"
      ]
     },
     "execution_count": 95,
     "metadata": {},
     "output_type": "execute_result"
    }
   ],
   "source": [
    "np.split(arreglo_split,[2,3,5,8])"
   ]
  },
  {
   "cell_type": "code",
   "execution_count": 97,
   "metadata": {},
   "outputs": [],
   "source": [
    "#array_split_4_partes = np.array(array_split_4_partes)"
   ]
  },
  {
   "cell_type": "code",
   "execution_count": 98,
   "metadata": {},
   "outputs": [],
   "source": [
    "paises = np.array(['Ecuador',\n",
    "                   'Colombia',\n",
    "                   'Peru',\n",
    "                   'Brazil',\n",
    "                   'Mexico',\n",
    "                   'Guatemala'])"
   ]
  },
  {
   "cell_type": "code",
   "execution_count": 99,
   "metadata": {},
   "outputs": [
    {
     "data": {
      "text/plain": [
       "[array(['Ecuador', 'Colombia', 'Peru'], dtype='<U9'),\n array(['Brazil', 'Mexico', 'Guatemala'], dtype='<U9')]"
      ]
     },
     "execution_count": 99,
     "metadata": {},
     "output_type": "execute_result"
    }
   ],
   "source": [
    "np.hsplit(paises,2)"
   ]
  },
  {
   "cell_type": "code",
   "execution_count": 100,
   "metadata": {},
   "outputs": [
    {
     "data": {
      "text/plain": [
       "[array(['Ecuador', 'Colombia', 'Peru'], dtype='<U9'),\n array(['Brazil', 'Mexico', 'Guatemala'], dtype='<U9')]"
      ]
     },
     "execution_count": 100,
     "metadata": {},
     "output_type": "execute_result"
    }
   ],
   "source": [
    "np.split(paises,2)"
   ]
  },
  {
   "cell_type": "code",
   "execution_count": 102,
   "metadata": {},
   "outputs": [],
   "source": [
    "paises_2d = np.array([['Ecuador',\n",
    "                   'Colombia',\n",
    "                   'Peru'],\n",
    "                   ['Brazil',\n",
    "                   'Mexico',\n",
    "                   'Guatemala']])"
   ]
  },
  {
   "cell_type": "code",
   "execution_count": 104,
   "metadata": {},
   "outputs": [
    {
     "data": {
      "text/plain": [
       "[array([['Ecuador', 'Colombia', 'Peru']], dtype='<U9'),\n array([['Brazil', 'Mexico', 'Guatemala']], dtype='<U9')]"
      ]
     },
     "execution_count": 104,
     "metadata": {},
     "output_type": "execute_result"
    }
   ],
   "source": [
    "np.vsplit(paises_2d,2)"
   ]
  },
  {
   "cell_type": "code",
   "execution_count": 105,
   "metadata": {},
   "outputs": [
    {
     "data": {
      "text/plain": [
       "[array([['Ecuador'],\n        ['Brazil']], dtype='<U9'), array([['Colombia'],\n        ['Mexico']], dtype='<U9'), array([['Peru'],\n        ['Guatemala']], dtype='<U9')]"
      ]
     },
     "execution_count": 105,
     "metadata": {},
     "output_type": "execute_result"
    }
   ],
   "source": [
    "np.hsplit(paises_2d,3)"
   ]
  },
  {
   "cell_type": "code",
   "execution_count": null,
   "metadata": {},
   "outputs": [],
   "source": []
  }
 ],
 "metadata": {
  "kernelspec": {
   "display_name": "Python 3",
   "language": "python",
   "name": "python3"
  },
  "language_info": {
   "codemirror_mode": {
    "name": "ipython",
    "version": 3
   },
   "file_extension": ".py",
   "mimetype": "text/x-python",
   "name": "python",
   "nbconvert_exporter": "python",
   "pygments_lexer": "ipython3",
   "version": "3.7.0"
  }
 },
 "nbformat": 4,
 "nbformat_minor": 2
}
