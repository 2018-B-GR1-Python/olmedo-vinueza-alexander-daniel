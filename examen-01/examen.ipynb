{
 "cells": [
  {
   "cell_type": "code",
   "execution_count": 1,
   "metadata": {},
   "outputs": [],
   "source": [
    "import numpy as np"
   ]
  },
  {
   "cell_type": "markdown",
   "metadata": {},
   "source": [
    "## 2) Crear un vector de ceros de tamaño 10"
   ]
  },
  {
   "cell_type": "code",
   "execution_count": 3,
   "metadata": {},
   "outputs": [
    {
     "name": "stdout",
     "output_type": "stream",
     "text": [
      "[0. 0. 0. 0. 0. 0. 0. 0. 0. 0.]\n"
     ]
    }
   ],
   "source": [
    "vector_ceros_diez = np.zeros(10)\n",
    "print(vector_ceros_diez)"
   ]
  },
  {
   "cell_type": "markdown",
   "metadata": {},
   "source": [
    "## 3) Crear un vector de ceros de tamaño 10 y el de la posicion 5 sea igual a 1"
   ]
  },
  {
   "cell_type": "code",
   "execution_count": 4,
   "metadata": {},
   "outputs": [
    {
     "name": "stdout",
     "output_type": "stream",
     "text": [
      "[0. 0. 0. 0. 0. 1. 0. 0. 0. 0.]\n"
     ]
    }
   ],
   "source": [
    "vector_ceros_diez_cinco = vector_ceros_diez\n",
    "vector_ceros_diez_cinco[5] = 1\n",
    "print(vector_ceros_diez_cinco)\n"
   ]
  },
  {
   "cell_type": "markdown",
   "metadata": {},
   "source": [
    "## 4) Cambiar el orden de un vector de 50 elementos, el de la posicion 1 es el de la 50 etc."
   ]
  },
  {
   "cell_type": "code",
   "execution_count": 7,
   "metadata": {},
   "outputs": [
    {
     "name": "stdout",
     "output_type": "stream",
     "text": [
      "[49 48 47 46 45 44 43 42 41 40 39 38 37 36 35 34 33 32 31 30 29 28 27 26\n",
      " 25 24 23 22 21 20 19 18 17 16 15 14 13 12 11 10  9  8  7  6  5  4  3  2\n",
      "  1  0]\n"
     ]
    }
   ],
   "source": [
    "vector_cincuenta = np.arange(50)\n",
    "vector_cincuenta_reverso = vector_cincuenta[::-1]\n",
    "print(vector_cincuenta_reverso)"
   ]
  },
  {
   "cell_type": "markdown",
   "metadata": {},
   "source": [
    "## 5) Crear una matriz de 3 x 3 con valores del cero al 8"
   ]
  },
  {
   "cell_type": "code",
   "execution_count": 9,
   "metadata": {
    "scrolled": true
   },
   "outputs": [
    {
     "name": "stdout",
     "output_type": "stream",
     "text": [
      "[[0 1 2]\n",
      " [3 4 5]\n",
      " [6 7 8]]\n"
     ]
    }
   ],
   "source": [
    "print(np.arange(9).reshape(3,3))"
   ]
  },
  {
   "cell_type": "markdown",
   "metadata": {},
   "source": [
    "## 6) Encontrar los indices que no sean cero en un arreglo"
   ]
  },
  {
   "cell_type": "code",
   "execution_count": 20,
   "metadata": {},
   "outputs": [
    {
     "name": "stdout",
     "output_type": "stream",
     "text": [
      "[ True  True False False  True False]\n"
     ]
    }
   ],
   "source": [
    "arreglo = np.asarray([1,2,0,0,4,0])\n",
    "indice_no_cero = arreglo != 0\n",
    "print(indice_no_cero)"
   ]
  },
  {
   "cell_type": "markdown",
   "metadata": {},
   "source": [
    "## 7) Crear una matriz de identidad 3 x 3"
   ]
  },
  {
   "cell_type": "code",
   "execution_count": 24,
   "metadata": {},
   "outputs": [
    {
     "name": "stdout",
     "output_type": "stream",
     "text": [
      "[[1. 0. 0.]\n",
      " [0. 1. 0.]\n",
      " [0. 0. 1.]]\n"
     ]
    }
   ],
   "source": [
    "print(np.identity(3))"
   ]
  },
  {
   "cell_type": "markdown",
   "metadata": {},
   "source": [
    "## 8) Crear una matriz 3 x 3 x 3 con valores randomicos"
   ]
  },
  {
   "cell_type": "code",
   "execution_count": 43,
   "metadata": {},
   "outputs": [
    {
     "name": "stdout",
     "output_type": "stream",
     "text": [
      "[[[46 62 56]\n",
      "  [41 71 48]\n",
      "  [36 67 38]]\n",
      "\n",
      " [[45 96  5]\n",
      "  [68 89 48]\n",
      "  [97 77 22]]\n",
      "\n",
      " [[77 59 62]\n",
      "  [ 0 26 84]\n",
      "  [37 33 65]]]\n"
     ]
    }
   ],
   "source": [
    "matriz_tres_tres_tres = np.random.randint(100, size=27).reshape(3,3,3)\n",
    "print(matriz_tres_tres_tres)"
   ]
  },
  {
   "cell_type": "markdown",
   "metadata": {},
   "source": [
    "## 9) Crear una matriz 10 x 10 y encontrar el mayor y el menor"
   ]
  },
  {
   "cell_type": "code",
   "execution_count": 49,
   "metadata": {},
   "outputs": [
    {
     "name": "stdout",
     "output_type": "stream",
     "text": [
      "[[ 71  17  96  23 426 199 346 227 327 870]\n",
      " [982 391 247  56 112  47 943 234  70 575]\n",
      " [116 464 774 578 911 895  94 388 100  45]\n",
      " [793 577 173  68 646 764 656 298 552 974]\n",
      " [101 427 794 798 681 648 233 911 444 589]\n",
      " [200 310 513 116  60 865 522 546 462 460]\n",
      " [696 979 627 735 679 308 819 500 975 619]\n",
      " [708 322 329 457 317 420  42 179 825 635]\n",
      " [355 669 703 832 826 691 551 238 338 351]\n",
      " [196 332 684 718 646 509 262 315 582 649]]\n",
      "Mayor: 982\n",
      "Menor: 17\n"
     ]
    }
   ],
   "source": [
    "matriz_diez_diez = np.random.randint(1000, size=100).reshape(10,10)\n",
    "print(matriz_diez_diez)\n",
    "print(\"Mayor: %d\" % (matriz_diez_diez.max()))\n",
    "print(\"Menor: %d\" % (matriz_diez_diez.min()))"
   ]
  },
  {
   "cell_type": "code",
   "execution_count": null,
   "metadata": {},
   "outputs": [],
   "source": []
  }
 ],
 "metadata": {
  "kernelspec": {
   "display_name": "Python 3",
   "language": "python",
   "name": "python3"
  },
  "language_info": {
   "codemirror_mode": {
    "name": "ipython",
    "version": 3
   },
   "file_extension": ".py",
   "mimetype": "text/x-python",
   "name": "python",
   "nbconvert_exporter": "python",
   "pygments_lexer": "ipython3",
   "version": "3.7.0"
  }
 },
 "nbformat": 4,
 "nbformat_minor": 2
}
