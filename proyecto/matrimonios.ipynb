{
 "cells": [
  {
   "cell_type": "markdown",
   "metadata": {},
   "source": [
    "# Matrimonios en Ecuador Año 2017"
   ]
  },
  {
   "cell_type": "markdown",
   "metadata": {},
   "source": [
    "La base de datos de matrimonios \"EMA 2017.csv\" está compuesta del total de matrimonios inscritos en el año de estudio 2017 y de 42 variables. Se encuentra información relacionada al Registro Civil, datos del contrayente, datos de la contrayente e información general.\n",
    "Se registraron 60.353 matrimonios en el año de investigación."
   ]
  },
  {
   "cell_type": "code",
   "execution_count": 1,
   "metadata": {},
   "outputs": [],
   "source": [
    "import numpy as np\n",
    "import scipy.stats as stats\n",
    "import pylab as plt"
   ]
  },
  {
   "cell_type": "code",
   "execution_count": 91,
   "metadata": {},
   "outputs": [],
   "source": [
    "matrimonios = np.genfromtxt('EMA 2017.csv',dtype=[('ofi_insc', '<i4'), ('prov_insc', '<U30'), ('cant_insc', '<U32'), ('parr_insc', '<U63'), ('anio_insc', '<i4'), ('mes_insc', '<U10'), ('dia_insc', '<i4'), ('fecha_insc', '<U10'), ('hijos_rec', '<i4'), ('mcap_bie', '<U15'), ('nac_hom', '<U16'), ('cod_paish', '<i4'), ('anio_nach', '<i4'), ('mes_nach', '<U10'), ('dia_nach', '<i4'), ('fecha_nach', '<U10'), ('edad_hom', '<i4'), ('nmatanth', '<i4'), ('est_civih', '<U15'), ('p_etnica_hom', '<U34'), ('niv_insth', '<U29'), ('sabe_leerh', '<U15'), ('prov_habh', '<U30'), ('cant_habh', '<U32'), ('parr_habh', '<U70'), ('area_resh', '<U6'), ('nac_muj', '<U15'), ('cod_paism', '<i4'), ('anio_nacm', '<i4'), ('mes_nacm', '<U10'), ('dia_nacm', '<i4'), ('fecha_nacm', '<U10'), ('edad_muj', '<i4'), ('nmatantm', '<i4'), ('est_civim', '<U15'), ('p_etnica_muj', '<U34'), ('niv_instm', '<U29'), ('sabe_leerm', '<U15'), ('prov_habm', '<U30'), ('cant_habm', '<U32'), ('parr_habm', '<U70'), ('area_resm', '<U6')],skip_header=1, delimiter=';', encoding=None)"
   ]
  },
  {
   "cell_type": "code",
   "execution_count": 96,
   "metadata": {},
   "outputs": [
    {
     "name": "stdout",
     "output_type": "stream",
     "text": [
      "['Indígena' 'Indígena' 'Mestiza' ... 'Sin información' 'Sin información'\n",
      " 'Sin información']\n"
     ]
    }
   ],
   "source": [
    "print(matrimonios['p_etnica_muj'])"
   ]
  },
  {
   "cell_type": "code",
   "execution_count": null,
   "metadata": {},
   "outputs": [],
   "source": []
  }
 ],
 "metadata": {
  "kernelspec": {
   "display_name": "Python 3",
   "language": "python",
   "name": "python3"
  },
  "language_info": {
   "codemirror_mode": {
    "name": "ipython",
    "version": 3
   },
   "file_extension": ".py",
   "mimetype": "text/x-python",
   "name": "python",
   "nbconvert_exporter": "python",
   "pygments_lexer": "ipython3",
   "version": "3.7.0"
  }
 },
 "nbformat": 4,
 "nbformat_minor": 1
}
