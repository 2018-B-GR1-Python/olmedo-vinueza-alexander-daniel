{
 "cells": [
  {
   "cell_type": "markdown",
   "metadata": {},
   "source": [
    "# Matrimonios en Ecuador Año 2017"
   ]
  },
  {
   "cell_type": "markdown",
   "metadata": {},
   "source": [
    "La base de datos de matrimonios \"EMA 2017.csv\" está compuesta del total de matrimonios inscritos en el año de estudio 2017 y de 42 variables. Se encuentra información relacionada al Registro Civil, datos del contrayente, datos de la contrayente e información general.\n",
    "Se registraron 60.353 matrimonios en el año de investigación."
   ]
  },
  {
   "cell_type": "code",
   "execution_count": 10,
   "metadata": {},
   "outputs": [],
   "source": [
    "import numpy as np\n",
    "import scipy.stats as stats\n",
    "#import pylab as plt\n",
    "import matplotlib.pyplot as plt"
   ]
  },
  {
   "cell_type": "code",
   "execution_count": 2,
   "metadata": {},
   "outputs": [],
   "source": [
    "matrimonios = np.genfromtxt('EMA 2017.csv',dtype=[('ofi_insc', '<i4'), ('prov_insc', '<U30'), ('cant_insc', '<U32'), ('parr_insc', '<U63'), ('anio_insc', '<i4'), ('mes_insc', '<U10'), ('dia_insc', '<i4'), ('fecha_insc', '<U10'), ('hijos_rec', '<i4'), ('mcap_bie', '<U15'), ('nac_hom', '<U16'), ('cod_paish', '<i4'), ('anio_nach', '<i4'), ('mes_nach', '<U10'), ('dia_nach', '<i4'), ('fecha_nach', '<U10'), ('edad_hom', '<i4'), ('nmatanth', '<i4'), ('est_civih', '<U15'), ('p_etnica_hom', '<U34'), ('niv_insth', '<U29'), ('sabe_leerh', '<U15'), ('prov_habh', '<U30'), ('cant_habh', '<U32'), ('parr_habh', '<U70'), ('area_resh', '<U6'), ('nac_muj', '<U15'), ('cod_paism', '<i4'), ('anio_nacm', '<i4'), ('mes_nacm', '<U10'), ('dia_nacm', '<i4'), ('fecha_nacm', '<U10'), ('edad_muj', '<i4'), ('nmatantm', '<i4'), ('est_civim', '<U15'), ('p_etnica_muj', '<U34'), ('niv_instm', '<U29'), ('sabe_leerm', '<U15'), ('prov_habm', '<U30'), ('cant_habm', '<U32'), ('parr_habm', '<U70'), ('area_resm', '<U6')],skip_header=1, delimiter=';', encoding=None)"
   ]
  },
  {
   "cell_type": "markdown",
   "metadata": {},
   "source": [
    "## Edad de Matrimonio\n",
    "En el año 2017 la edad media de matrimonio de las mujeres era menor a la de los hombres"
   ]
  },
  {
   "cell_type": "code",
   "execution_count": 52,
   "metadata": {},
   "outputs": [
    {
     "data": {
      "text/plain": [
       "Text(40, 6000, 'Hombres: 32.74 años\\nMujeres: 29.71 años')"
      ]
     },
     "execution_count": 52,
     "metadata": {},
     "output_type": "execute_result"
    },
    {
     "data": {
      "image/png": "[encoded data removed]",
      "text/plain": [
       "<Figure size 432x288 with 1 Axes>"
      ]
     },
     "metadata": {
      "needs_background": "light"
     },
     "output_type": "display_data"
    }
   ],
   "source": [
    "mean_hombre = np.mean(matrimonios['edad_hom'])\n",
    "mean_mujer = np.mean(matrimonios['edad_muj'])\n",
    "std_hombre = np.mean(matrimonios['edad_hom'])\n",
    "std_mujer = np.mean(matrimonios['edad_muj'])\n",
    "\n",
    "\n",
    "plt.hist(matrimonios['edad_hom'], histtype='stepfilled', color='blue', alpha=0.3, bins=40)\n",
    "plt.hist(matrimonios['edad_muj'], histtype='stepfilled', color='red', alpha=0.3, bins=40)\n",
    "plt.title('Edad de matrimonio')\n",
    "plt.xlabel(\"Edad\")\n",
    "plt.ylabel(\"Frequencia\")\n",
    "plt.text(40, 6000, \"Hombres: {0:.4} años\\nMujeres: {1:.4} años\".format(mean_hombre,mean_mujer))"
   ]
  },
  {
   "cell_type": "code",
   "execution_count": 55,
   "metadata": {},
   "outputs": [
    {
     "data": {
      "text/plain": [
       "(array([ 8911.,  5000.,  4744.,  4496.,  7271.,  4237.,  5175.,  5054.,\n",
       "         4781., 10684.]),\n",
       " array([ 0. ,  1.1,  2.2,  3.3,  4.4,  5.5,  6.6,  7.7,  8.8,  9.9, 11. ]),\n",
       " <a list of 10 Patch objects>)"
      ]
     },
     "execution_count": 55,
     "metadata": {},
     "output_type": "execute_result"
    },
    {
     "data": {
      "image/png": "[encoded data removed]",
      "text/plain": [
       "<Figure size 432x288 with 1 Axes>"
      ]
     },
     "metadata": {
      "needs_background": "light"
     },
     "output_type": "display_data"
    }
   ],
   "source": [
    "plt.hist(matrimonios['mes_insc'], color='blue')"
   ]
  },
  {
   "cell_type": "code",
   "execution_count": null,
   "metadata": {},
   "outputs": [],
   "source": []
  }
 ],
 "metadata": {
  "kernelspec": {
   "display_name": "Python 3",
   "language": "python",
   "name": "python3"
  },
  "language_info": {
   "codemirror_mode": {
    "name": "ipython",
    "version": 3
   },
   "file_extension": ".py",
   "mimetype": "text/x-python",
   "name": "python",
   "nbconvert_exporter": "python",
   "pygments_lexer": "ipython3",
   "version": "3.7.0"
  }
 },
 "nbformat": 4,
 "nbformat_minor": 1
}
